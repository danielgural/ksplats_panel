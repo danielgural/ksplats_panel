{
 "cells": [
  {
   "cell_type": "code",
   "execution_count": null,
   "metadata": {},
   "outputs": [],
   "source": [
    "import fiftyone as fo\n",
    "from fiftyone.utils.splats import SplatFile\n",
    "\n",
    "dataset = fo.Dataset(name=\"splat-test\",overwrite=True)\n",
    "\n",
    "sample1 = fo.Sample(filepath=\"./dan.jpeg\")\n",
    "sample1[\"splat\"] = SplatFile(filepath=\"/path/to/assets/stump.ksplat\")\n",
    "\n",
    "sample2 = fo.Sample(filepath=\"./dan.jpeg\")\n",
    "sample2[\"splat\"] = SplatFile(filepath=\"/path/to/assets/truck.ksplat\")\n",
    "\n",
    "dataset.add_sample(sample1)\n",
    "dataset.add_sample(sample2)\n",
    "\n",
    "session = fo.launch_app(dataset)"
   ]
  }
 ],
 "metadata": {
  "kernelspec": {
   "display_name": "dev",
   "language": "python",
   "name": "python3"
  },
  "language_info": {
   "name": "python",
   "version": "3.10.14"
  }
 },
 "nbformat": 4,
 "nbformat_minor": 2
}
